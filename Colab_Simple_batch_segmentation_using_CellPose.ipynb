{
  "nbformat": 4,
  "nbformat_minor": 0,
  "metadata": {
    "colab": {
      "provenance": [],
      "collapsed_sections": [
        "NdBBcRDKctRZ"
      ],
      "gpuType": "T4",
      "authorship_tag": "ABX9TyPuFgBMyX81f8+gHVAXJ75K",
      "include_colab_link": true
    },
    "kernelspec": {
      "name": "python3",
      "display_name": "Python 3"
    },
    "language_info": {
      "name": "python"
    },
    "accelerator": "GPU"
  },
  "cells": [
    {
      "cell_type": "markdown",
      "metadata": {
        "id": "view-in-github",
        "colab_type": "text"
      },
      "source": [
        "<a href=\"https://colab.research.google.com/github/fabricecordelieres/Colab_Simple-batch-segmentation-using-CellPose/blob/main/Colab_Simple_batch_segmentation_using_CellPose.ipynb\" target=\"_parent\"><img src=\"https://colab.research.google.com/assets/colab-badge.svg\" alt=\"Open In Colab\"/></a>"
      ]
    },
    {
      "cell_type": "markdown",
      "source": [
        "# **Simple batch segmentation using CellPose**\n",
        "\n",
        "*This notebook is partly inspired from https://colab.research.google.com/github/MouseLand/cellpose/blob/main/notebooks/Cellpose_cell_segmentation_2D_prediction_only.ipynb*\n",
        "\n",
        "*It allows batch segmentation of 2D/1 channel images, packed as a zip file.\n",
        "The following default parameters are used:*\n",
        "* model_type='cyto'\n",
        "* diameter=100\n",
        "* flow_threshold=0.3\n",
        "* cellprob_threshold=-1\n",
        "\n",
        "*These parameters are expossed as class attributes and can be modified once a \"segment_data\" object has been initialized (see Step 1.2 for the class definition).*\n",
        "\n",
        "\n",
        "\n"
      ],
      "metadata": {
        "id": "oeUp9063HHWO"
      }
    },
    {
      "cell_type": "markdown",
      "source": [
        "# Step 0: Before starting\n",
        "1. Go to Runtime -> Change Runtime Type -> Hardware accelerator.\n",
        "2. Select \"GPU\".\n",
        "3. Press \"Save\".\n",
        "\n"
      ],
      "metadata": {
        "id": "bhjKsQFlCq7v"
      }
    },
    {
      "cell_type": "markdown",
      "source": [
        "# Step 1: Prepare the environment for execution\n",
        "\n",
        "\n",
        "_Simply execute the following cells and don't worry about the outputs_"
      ],
      "metadata": {
        "id": "NdBBcRDKctRZ"
      }
    },
    {
      "cell_type": "code",
      "source": [
        "#@markdown ## **_Step 1.1: Install required libraries_**\n",
        "#@markdown Performs some magic, installing everything that is required for segmentation\n",
        "\n",
        "#@markdown _Simply execute the following cell and don't worry about the outputs_\n",
        "\n",
        "!pip install cellpose\n",
        "!pip install torch torchvision torchaudio\n",
        "\n",
        "#Fix opencv error: ImportError: cannot import name '_registerMatType' from 'cv2.cv2'\n",
        "!pip install \"opencv-python-headless<4.3\"\n",
        "#exit(0) #Restart Runtime to use newly installed numpy\n",
        "\n",
        "#Used for progress bars\n",
        "!pip install tqdm"
      ],
      "metadata": {
        "cellView": "form",
        "id": "s2FgcOPvc3i_"
      },
      "execution_count": null,
      "outputs": []
    },
    {
      "cell_type": "code",
      "source": [
        "#@markdown ## **_Step 1.2: Declare data upload/download workflows_**\n",
        "#@markdown Defines procedures to upload the data from the disk and pack/download analyzed data as a zip file\n",
        "\n",
        "#@markdown _Simply execute the following cell_\n",
        "\n",
        "from google.colab import files\n",
        "from zipfile import ZipFile\n",
        "import shutil\n",
        "import os\n",
        "import tqdm\n",
        "import numpy as np\n",
        "import skimage.io\n",
        "from cellpose import models,core, io\n",
        "import sys\n",
        "\n",
        "#-----------------UPLOAD DATA, PERFORM SEGMENTATION AND DOWNLOAD THE RESULTS-----------------\n",
        "class segment_data():\n",
        "  \"\"\"\n",
        "  1-Uploads a zip file\n",
        "  2-Unzips it\n",
        "  3-Performs the segmentation on all imagess\n",
        "  4-Zips the results\n",
        "  5-Downloads the output zip file\n",
        "\n",
        "  Limitation: only works on one channel images\n",
        "  \"\"\"\n",
        "\n",
        "  #Class attibute\n",
        "  uploaded=''\n",
        "  in_dir=''\n",
        "  in_file=''\n",
        "  out_dir='/content/_segmentedData/'\n",
        "  out_file='/content/_segmentedData.zip'\n",
        "\n",
        "  #Cell pose parameters\n",
        "  model_type='cyto'#Possible models: [\"cyto\", \"nuclei\", \"cyto2\", \"tissuenet\", \"livecell\"]\n",
        "  segment_channel=0\n",
        "  diameter=100\n",
        "  use_GPU=True\n",
        "  channels=[segment_channel,0]\n",
        "\n",
        "  flow_threshold=0.3\n",
        "  cellprob_threshold=-1\n",
        "\n",
        "  def __init__(self):\n",
        "    '''Uploads the input zip file and keeps track of it as a class attribute'''\n",
        "    #Clean anything that might have been generated in a previous run\n",
        "    self.clean_up_ze_mess()\n",
        "\n",
        "    #Display infos about the hardware\n",
        "    if core.use_gpu()==False:\n",
        "      #Warnings from the ZeroCost StarDist notebook\n",
        "      print('No access to a GPU: did you follow step 1.1 ?\\n If so, try reconnecting later for a more efficient processing or proceed using only CPU\\n')\n",
        "      self.use_GPU=False\n",
        "    else:\n",
        "      print(\"You have access to the GPU.\\n\")\n",
        "      print(\"*************************************************\")\n",
        "      !nvidia-smi\n",
        "      self.use_GPU=True\n",
        "\n",
        "    #File chooser\n",
        "    self.uploaded = files.upload()\n",
        "\n",
        "  def generate_output(self):\n",
        "    '''Unzips the uploaded file, performs segmentations, creates the output zip file and downloads it'''\n",
        "    #Unzip file(s), segments/downloads/clean up\n",
        "    for filename in self.uploaded.keys():\n",
        "      #Create a folder named after the file\n",
        "      zip_extract_path='/content/'+filename.replace('.zip', '')\n",
        "      os.mkdir(zip_extract_path)\n",
        "\n",
        "      #Extract the file\n",
        "      zip_in=ZipFile(filename, 'r')\n",
        "      zip_in.extractall(zip_extract_path)\n",
        "      zip_in.close()\n",
        "\n",
        "      #Set all the folders for input/output\n",
        "      self.in_file='/content/'+filename\n",
        "      self.in_dir=self.in_file.replace('.zip', '/')\n",
        "      if not os.path.exists(self.out_dir):\n",
        "        os.mkdir(self.out_dir)\n",
        "\n",
        "      imgList=os.listdir(self.in_dir)\n",
        "      zip_out = ZipFile(self.out_file, \"w\")\n",
        "\n",
        "      model = models.Cellpose(gpu=self.use_GPU, model_type=self.model_type)\n",
        "\n",
        "      #Segment and add to output zip file\n",
        "      #for fileName in imgList:\n",
        "      for fileName in (pbar :=tqdm.tqdm(imgList)):\n",
        "        pbar.set_description(\"Processing %s\" % fileName)\n",
        "        img=io.imread(os.path.join(self.in_dir, fileName))\n",
        "        mask, flow, style, diam = model.eval(img, diameter=self.diameter, flow_threshold=self.flow_threshold,cellprob_threshold=self.cellprob_threshold, channels=self.channels)\n",
        "\n",
        "        #Output name for masks\n",
        "        mask_output_name=self.out_dir+fileName\n",
        "        #Save mask as 16-bit in case this has to be used for detecting than 255 objects\n",
        "        mask=mask.astype(np.uint32)\n",
        "        #Save the mask\n",
        "        skimage.io.imsave(mask_output_name, mask, check_contrast=False)\n",
        "\n",
        "        zip_out.write(mask_output_name, fileName)\n",
        "\n",
        "\n",
        "      #Save a text file containing the parameters used for cellpose\n",
        "      with open(self.out_dir+'params.txt', 'w') as f:\n",
        "          f.write('model_type: '+self.model_type+'\\n')\n",
        "          f.write('diameter: '+str(self.diameter)+'\\n')\n",
        "          f.write('use_GPU: '+str(self.use_GPU)+'\\n')\n",
        "          f.write('flow_threshold: '+str(self.flow_threshold)+'\\n')\n",
        "          f.write('cellprob_threshold: '+str(self.cellprob_threshold))\n",
        "\n",
        "      zip_out.write(self.out_dir+'params.txt', 'params.txt')\n",
        "\n",
        "      #Close the zip file\n",
        "      zip_out.close()\n",
        "\n",
        "      files.download(self.out_file)\n",
        "      self.clean_up_ze_mess()\n",
        "\n",
        "  def clean_up_ze_mess(self):\n",
        "    '''Removes the input zip file and the extracted folders'''\n",
        "    if(os.path.exists('/content/__MACOSX')):\n",
        "      shutil.rmtree('/content/__MACOSX')\n",
        "    if(os.path.exists(self.in_dir)):\n",
        "      shutil.rmtree(self.in_dir)\n",
        "    if(os.path.exists(self.out_dir)):\n",
        "      shutil.rmtree(self.out_dir)\n",
        "    if(os.path.exists(self.in_file)):\n",
        "      os.remove(self.in_file)\n",
        "\n",
        "  def delete_output_file(self):\n",
        "    '''Deletes the output zip file: DO NOT CALL IT BEFORE DOWNLOAD HAS ENDED'''\n",
        "    self.clean_up_ze_mess()\n",
        "    os.remove(self.out_file)"
      ],
      "metadata": {
        "id": "VzNiTwG8dFfV"
      },
      "execution_count": null,
      "outputs": []
    },
    {
      "cell_type": "markdown",
      "source": [
        "# Step 2: Perform the actual segmentation"
      ],
      "metadata": {
        "id": "PWZwKQtSG_M0"
      }
    },
    {
      "cell_type": "code",
      "source": [
        "\n",
        "#@markdown ## **_Step 2.1: Upload data, run segmentation and download results_**\n",
        "\n",
        "#@markdown _Simply execute the following cell_\n",
        "\n",
        "#@markdown 1. Some information will be displayed about the ressources available. In case you see the \"no GPU\" message, follow the instructions.\n",
        "#@markdown 2. You'll get asked to select a file containing all your images as a zip file: it may take some time to get your data uploaded, but once set, you won't have to wait for the transfer to complete !\n",
        "#@markdown 3. Have a break whilst Google is working for you. You may have a look at the progress bar to check everything is running smoothly.\n",
        "#@markdown 4. The segmented images will be packed into a zip file that will be automatically downloaded to your computer.\n",
        "\n",
        "segment_it=segment_data()\n",
        "segment_it.generate_output()"
      ],
      "metadata": {
        "cellView": "form",
        "id": "a12i3ktFe7Xo"
      },
      "execution_count": null,
      "outputs": []
    },
    {
      "cell_type": "code",
      "source": [
        "#@markdown ## **_Step 2.2: Clean the drive_**\n",
        "\n",
        "#@markdown Erases all files and folder uploaded/generated during segmentation\n",
        "\n",
        "#@markdown ## <font color=\"red\">**_DO NOT RUN THIS BEFORE YOU'VE CHECKED THE DOWNLOAD IS COMPLETED !_**</font>\n",
        "\n",
        "#@markdown _Simply execute the following cell_\n",
        "\n",
        "segment_it.delete_output_file()"
      ],
      "metadata": {
        "cellView": "form",
        "id": "xkCgXQoYMgcP"
      },
      "execution_count": null,
      "outputs": []
    }
  ]
}